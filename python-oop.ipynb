{
  "nbformat": 4,
  "nbformat_minor": 0,
  "metadata": {
    "colab": {
      "provenance": [],
      "toc_visible": true,
      "authorship_tag": "ABX9TyOLV+gLbrZSKpv6s1PCI9M+",
      "include_colab_link": true
    },
    "kernelspec": {
      "name": "python3",
      "display_name": "Python 3"
    },
    "language_info": {
      "name": "python"
    }
  },
  "cells": [
    {
      "cell_type": "markdown",
      "metadata": {
        "id": "view-in-github",
        "colab_type": "text"
      },
      "source": [
        "<a href=\"https://colab.research.google.com/github/joaobugelli/Learn-Python/blob/master/python-oop.ipynb\" target=\"_parent\"><img src=\"https://colab.research.google.com/assets/colab-badge.svg\" alt=\"Open In Colab\"/></a>"
      ]
    },
    {
      "cell_type": "markdown",
      "source": [
        "# Programação Orientada a Objetos em Python\n"
      ],
      "metadata": {
        "id": "9QxHDC27t_2L"
      }
    },
    {
      "cell_type": "markdown",
      "source": [
        "Este notebook é um material didático da comunidade **Import Sci** e tem como objetivo explicar de forma simples e prática o uso da programação orientada a objetos em Python."
      ],
      "metadata": {
        "id": "mR3omU4euHLR"
      }
    },
    {
      "cell_type": "markdown",
      "source": [
        "Este conteúdo faz parte da trilha avançada de Python do Import Sci, que pode ser encontrada aqui: EM BREVE\n",
        "\n",
        "Este material em vídeo pode ser encontrado aqui: EM BREVE"
      ],
      "metadata": {
        "id": "TN2qIm6w8m0I"
      }
    },
    {
      "cell_type": "markdown",
      "source": [
        "Requisitos"
      ],
      "metadata": {
        "id": "wIxG43_m8Pru"
      }
    },
    {
      "cell_type": "markdown",
      "source": [
        "**Autores**\n",
        "- João Bugelli"
      ],
      "metadata": {
        "id": "PJjkqmRp8N0o"
      }
    },
    {
      "cell_type": "markdown",
      "source": [
        "# Introdução"
      ],
      "metadata": {
        "id": "AN43kr6-on2m"
      }
    },
    {
      "cell_type": "markdown",
      "source": [
        "## **O que é programação orientada a objetos?**\n",
        "\n",
        "`Programação Orientada a Objetos (POO)` é uma maneira de pensar e escrever programas que se concentra em `objetos`, que representam coisas ou conceitos do mundo real.\n",
        "\n",
        "Exemplo: Você pode pensar em objetos como carros. Cada carro é um objeto, com suas próprias características (cor, modelo, ano, etc.) e comportamentos (dirigir, frear, buzinar, etc.).\n",
        "\n",
        "Da mesma forma, na POO, você cria objetos que representam coisas ou conceitos e define suas características (`atributos`) e comportamentos (`métodos`). Além disso, os objetos podem ser agrupados em `classes`, que são como modelos ou moldes para criar novos objetos."
      ],
      "metadata": {
        "id": "uUG8HrJKosFW"
      }
    },
    {
      "cell_type": "markdown",
      "source": [
        "## **Por que utilizar programação orientada a objetos?**\n",
        "\n",
        "A programação orientada a objetos oferece algumas vantagens que a tornam uma escolha popular para desenvolvimento de software:\n",
        "\n",
        "\n",
        "1. **Reutilização de código:** Você pode criar classes que representam conceitos ou coisas e reutilizá-las em vários lugares no seu código. Isso ajuda a manter o código limpo e organizado e facilita a manutenção do programa.\n",
        "\n",
        "2. **Leitura e manutenção mais fáceis:** Ao representar coisas e conceitos do mundo real como objetos, você torna o seu código mais fácil de entender e manter, especialmente para outras pessoas.\n",
        "\n",
        "3. **Flexibilidade:** Você pode facilmente mudar o comportamento de um objeto ou adicionar novos atributos sem afetar outras partes do seu código.\n",
        "\n",
        "4. **Testabilidade:** É mais fácil testar objetos separados do que grandes blocos de código sem estrutura.\n",
        "\n",
        "Desta forma, a POO ajuda a criar um código mais organizado, reutilizável e fácil de manter, tornando o desenvolvimento de software mais eficiente. Além disso, essas vantagens da POO listadas acima, são justamente as desvantagens de outras abordagens da programação."
      ],
      "metadata": {
        "id": "uba3YqLLjBQx"
      }
    },
    {
      "cell_type": "markdown",
      "source": [
        "## **Quando devo utilizar programação orientada a objetos?**\n",
        "\n",
        "A programação orientada a objetos é útil em muitos tipos de aplicações, entretanto nem sempre é a melhor escolha. Você deve considerar alguns itens:\n",
        "\n",
        "1. Complexidade do problema: A programação orientada a objetos é uma boa escolha para problemas complexos que envolvem muitos objetos inter-relacionados.\n",
        "\n",
        "2. Reutilização de código: Se você deseja reutilizar o código em outros projetos, a programação orientada a objetos pode ser uma boa escolha, pois permite a criação de bibliotecas de objetos reutilizáveis.\n",
        "\n",
        "3. Colaboração em equipe: A programação orientada a objetos pode tornar mais fácil a colaboração em equipe, pois permite a divisão do trabalho em objetos menores e mais fáceis de entender.\n",
        "\n",
        "4. Rapidez de desenvolvimento: Em alguns casos, a programação orientada a objetos pode ser mais rápida do que outras abordagens, pois permite a reutilização de código e a divisão do trabalho em objetos menores.\n",
        "\n",
        "De maneira geral, a programação orientada a objetos é uma boa escolha quando se deseja modelar conceitos do mundo real, reutilizar código, e trabalhar em equipe em projetos complexos. Mas em algumas situações, outras abordagens, como a programação procedural ou a programação funcional, podem ser mais adequadas."
      ],
      "metadata": {
        "id": "WMxhKlvPmJj-"
      }
    },
    {
      "cell_type": "markdown",
      "source": [
        "# Conceitos básicos"
      ],
      "metadata": {
        "id": "LjuClnSIpIzH"
      }
    },
    {
      "cell_type": "markdown",
      "source": [
        "Os conceitos básicos da programação orientada a objetos são:\n",
        "\n",
        "1. `Classe`: é uma definição genérica de um objeto, que descreve seus atributos e comportamentos, como se fosse um molde ou um *blueprint*.\n",
        "\n",
        "2. `Objeto`: é uma instância de uma classe, ou seja, um exemplo de determinada classe que possui suas próprias características únicas.\n",
        "\n",
        "3. `Atributos`: são as características de um objeto, como nome, idade, cor, etc.\n",
        "\n",
        "4. `Métodos`: são as ações que um objeto pode realizar, como calcular, comparar, imprimir, etc.\n",
        "\n",
        "5. `Construtor`: é um método especial na programação orientada a objetos que é invocado automaticamente quando um novo objeto é criado a partir de uma classe. Ele serve para inicializar o estado inicial do objeto, definindo seus valores de atributos e fazendo outras configurações necessárias.\n",
        "\n",
        "A seguir mostraremos de forma prática estes conceitos."
      ],
      "metadata": {
        "id": "tNEcpaswrV_8"
      }
    },
    {
      "cell_type": "markdown",
      "source": [
        "## Classes"
      ],
      "metadata": {
        "id": "DEIUOnexpnTC"
      }
    },
    {
      "cell_type": "markdown",
      "source": [
        "Para criar uma classe no Python usamos a palavra `class` seguida do nome da classe. Normalmente o padrão de nomenclatura para classes é o CamelCase, onde cada palavra é escrita com a primeira letra em maiúsculo e sem espaços entre elas. Por exemplo: \"MinhaClasse\", \"NovaClasse\", etc.\n",
        "\n",
        "Além disso, o nome da classe deve ser significativo e descrever a funcionalidade da classe de forma clara e concisa. Por exemplo, \"Carro\", \"Cliente\", \"Funcionario\". "
      ],
      "metadata": {
        "id": "SUHU28XnvaFz"
      }
    },
    {
      "cell_type": "code",
      "source": [
        "# Exemplo teórico\n",
        "\n",
        "class MinhaClasse:\n",
        "    pass"
      ],
      "metadata": {
        "id": "t_MJP-4wwoxp"
      },
      "execution_count": 2,
      "outputs": []
    },
    {
      "cell_type": "code",
      "source": [
        "# Exemplo prático\n",
        "\n",
        "class Carro():\n",
        "  pass"
      ],
      "metadata": {
        "id": "A4zdLR7tmIr9"
      },
      "execution_count": 1,
      "outputs": []
    },
    {
      "cell_type": "markdown",
      "source": [
        "## Objetos"
      ],
      "metadata": {
        "id": "JHOyHYDvuvRl"
      }
    },
    {
      "cell_type": "markdown",
      "source": [
        "Para criar um objeto a partir da classe, basta usar o nome da classe seguido de parênteses. Esse processo é conhecido como instanciar a classe, criando um objeto específico, guardando-o na memória.\n",
        "\n",
        "No Python, o padrão de nomenclatura para objetos é o Snake Case, onde cada palavra é separada por um underscore e todas as letras são minúsculas. Por exemplo: \"minha_variavel\", \"novo_objeto\", etc.\n",
        "\n",
        "Além disso, o nome do objeto deve ser significativo e descrever a funcionalidade do objeto de forma clara e concisa. Por exemplo, \"carro\", \"cliente\", \"funcionario\"."
      ],
      "metadata": {
        "id": "0pE-0OfEw-Dn"
      }
    },
    {
      "cell_type": "code",
      "source": [
        "# Exemplo teórico\n",
        "\n",
        "objeto = MinhaClasse()"
      ],
      "metadata": {
        "id": "fa5M4MK4wvl9"
      },
      "execution_count": 3,
      "outputs": []
    },
    {
      "cell_type": "code",
      "source": [
        "# Exemplo prático\n",
        "\n",
        "carro = Carro()"
      ],
      "metadata": {
        "id": "21Msmz73xezF"
      },
      "execution_count": 4,
      "outputs": []
    },
    {
      "cell_type": "markdown",
      "source": [
        "Ao imprimir o objeto criado temos uma representação em string da instância criada. A frase `\"main.Carro at 0x7f7975948be0\"` significa que você está trabalhando com uma instância da classe Carro, que está sendo executada no módulo principal \"main\".\n",
        "\n",
        "A string hexadecimal \"0x7f7975948be0\" é o endereço de memória onde a instância do objeto está armazenada."
      ],
      "metadata": {
        "id": "uj_Cgm0UyND8"
      }
    },
    {
      "cell_type": "code",
      "source": [
        "print(carro)"
      ],
      "metadata": {
        "colab": {
          "base_uri": "https://localhost:8080/"
        },
        "id": "Z9Axd-HoxlR0",
        "outputId": "91dca5e2-b51a-4d81-eb93-369c85b955bd"
      },
      "execution_count": 6,
      "outputs": [
        {
          "output_type": "stream",
          "name": "stdout",
          "text": [
            "<__main__.Carro object at 0x7f7975948be0>\n"
          ]
        }
      ]
    },
    {
      "cell_type": "markdown",
      "source": [
        "## Atributos"
      ],
      "metadata": {
        "id": "L68RJlB9u2pf"
      }
    },
    {
      "cell_type": "markdown",
      "source": [
        "Em Python, você pode criar atributos em objetos usando a notação de ponto.\n",
        "\n",
        "O padrão para nomes de atributos de objetos é usar nomes curtos e descritivos, no formato Snake Case, com letras minúsculas e separados por sublinhados, conforme as convenções do PEP 8.\n",
        "\n",
        "Por exemplo: \"cor\", \"velocidade_atual\", \"nome_dono\". "
      ],
      "metadata": {
        "id": "-DOw2Wtsy_tu"
      }
    },
    {
      "cell_type": "code",
      "execution_count": 11,
      "metadata": {
        "id": "0NP4D87Soi5p",
        "colab": {
          "base_uri": "https://localhost:8080/"
        },
        "outputId": "c124ab70-1ed0-4eb9-ce5f-671c3c698592"
      },
      "outputs": [
        {
          "output_type": "stream",
          "name": "stdout",
          "text": [
            "Fusca\n",
            "Verde\n",
            "1970\n"
          ]
        }
      ],
      "source": [
        "# Exemplo prático\n",
        "\n",
        "class Carro:\n",
        "    def __init__(self, modelo, cor, ano):\n",
        "        self.modelo = modelo\n",
        "        self.cor = cor\n",
        "        self.ano = ano\n",
        "\n",
        "meu_carro = Carro(\"Fusca\", \"Verde\", 1970)\n",
        "print(meu_carro.modelo)\n",
        "print(meu_carro.cor)\n",
        "print(meu_carro.ano)"
      ]
    },
    {
      "cell_type": "markdown",
      "source": [
        "Importante: alguns conceitos usados no exemplo acima como `__init__` e `self`, serão explicado a seguir no item construtor. Não se preocupe em entender tudo agora!"
      ],
      "metadata": {
        "id": "vLca6GjA0QRO"
      }
    },
    {
      "cell_type": "markdown",
      "source": [
        "## Métodos"
      ],
      "metadata": {
        "id": "PL3-0NRFu6KL"
      }
    },
    {
      "cell_type": "markdown",
      "source": [
        "Para criar métodos em um objeto em Python, basta definir uma função dentro da classe que representa o objeto. Essa função deve levar o parâmetro \"self\" para ter acesso aos atributos e métodos do objeto.\n",
        "\n",
        "O padrão no Python para o nome de atributos é o estilo Snake Case."
      ],
      "metadata": {
        "id": "RiHYM2dh4HJW"
      }
    },
    {
      "cell_type": "code",
      "source": [
        "# Exemplo prático\n",
        "\n",
        "class Carro:\n",
        "    def __init__(self, modelo, cor, ano):\n",
        "        self.modelo = modelo\n",
        "        self.cor = cor\n",
        "        self.ano = ano\n",
        "\n",
        "    def acelerar(self):\n",
        "        print(f\"O carro {self.modelo} está acelerando\")\n",
        "\n",
        "carro = Carro(\"Ferrari F355\", \"Vermelho\", 1995)\n",
        "carro.acelerar()"
      ],
      "metadata": {
        "id": "OsJR7BuEopR1",
        "colab": {
          "base_uri": "https://localhost:8080/"
        },
        "outputId": "bfceb250-ea15-47fd-9fa8-e9badc29675d"
      },
      "execution_count": 13,
      "outputs": [
        {
          "output_type": "stream",
          "name": "stdout",
          "text": [
            "O carro Ferrari F355 está acelerando\n"
          ]
        }
      ]
    },
    {
      "cell_type": "markdown",
      "source": [
        "## Construtor"
      ],
      "metadata": {
        "id": "KEpw1HwbpsSh"
      }
    },
    {
      "cell_type": "markdown",
      "source": [
        "\"self\" é uma referência ao objeto corrente em uma classe em Python. É usado como uma referência ao objeto da classe dentro do próprio objeto. Em outras palavras, é usado para acessar os atributos e métodos do objeto atual dentro da classe. Por convenção, é comum usar \"self\" como o nome para o primeiro argumento em métodos de uma classe em Python, mas o nome pode ser qualquer outro. Apenas o fato de ser o primeiro argumento em métodos de classe o torna especial."
      ],
      "metadata": {
        "id": "DPkHniGK3nVH"
      }
    },
    {
      "cell_type": "code",
      "source": [],
      "metadata": {
        "id": "SL5eyyKuvGeD"
      },
      "execution_count": null,
      "outputs": []
    }
  ]
}